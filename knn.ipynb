{
 "cells": [
  {
   "cell_type": "code",
   "execution_count": 2,
   "id": "d0dbae68-bd61-435c-8c7c-053c909993cb",
   "metadata": {},
   "outputs": [
    {
     "name": "stderr",
     "output_type": "stream",
     "text": [
      "/public/ly/anaconda3/envs/zyz/lib/python3.10/site-packages/nvidia/dali/backend.py:46: Warning: DALI support for Python 3.10 is experimental and some functionalities may not work.\n",
      "  deprecation_warning(\"DALI support for Python 3.10 is experimental and some functionalities \"\n"
     ]
    }
   ],
   "source": [
    "from random import randint, random\n",
    "import collections\n",
    "import os\n",
    "import shutil\n",
    "\n",
    "import numpy as np\n",
    "import math\n",
    "import time\n",
    "from collections import deque\n",
    "import torch as T\n",
    "import torch.nn.functional as F\n",
    "import torch.nn as nn\n",
    "import torchvision\n",
    "import torchvision.transforms as transforms\n",
    "from tqdm import tqdm\n",
    "import sklearn.neighbors\n",
    "import sklearn.metrics\n",
    "import sklearn.mixture\n",
    "import matplotlib.pyplot as plt\n",
    "import PIL\n",
    "from nvidia.dali.plugin.pytorch import DALIGenericIterator\n",
    "\n",
    "from imageComponent import *\n",
    "from remote_read_write import scp_read_wrapper, scp_write_wrapper\n",
    "scp_Tload = scp_read_wrapper(T.load, 'ly_1112103017@172.16.35.121', 30907, '/public/ly/zyz/cluster_id_rsa', '/public/ly/zyz/imageCL/tmp')\n",
    "scp_Tsave = scp_write_wrapper(T.save, 'ly_1112103017@172.16.35.121', 30907, '/public/ly/zyz/cluster_id_rsa', '/public/ly/zyz/imageCL/tmp')\n",
    "\n",
    "dali_device = 0\n",
    "device = 'cuda:1'\n",
    "T.backends.cudnn.benchmark = True\n",
    "T.backends.cudnn.deterministic = True\n",
    "use_amp = False"
   ]
  },
  {
   "cell_type": "code",
   "execution_count": 2,
   "id": "015c4ba3-067e-490b-b683-47b414784e5c",
   "metadata": {},
   "outputs": [],
   "source": [
    "model = ViTCifar()\n",
    "root = '/public/home/ly_1112103017/zyz/imageCL/ckpt/CLCifarViT'\n",
    "epoch = 1200\n",
    "smodel = copy.deepcopy(model)\n",
    "sroot = '/public/home/ly_1112103017/zyz/imageCL/ckpt/SCifarViT'\n",
    "sepoch = 600"
   ]
  },
  {
   "cell_type": "code",
   "execution_count": 3,
   "id": "5beff565-80cc-4040-b851-7e6f0923ece4",
   "metadata": {},
   "outputs": [],
   "source": [
    "trainfolder = '/public/ly/zyz/imageCL/dataset/cifar10-image/train'\n",
    "rawtrainfolder = '/public/ly/zyz/imageCL/dataset/cifar10-image/train'\n",
    "valfolder = '/public/ly/zyz/imageCL/dataset/cifar10-image/test'\n",
    "size = (32, 32)\n",
    "batch_size = 3125\n",
    "ps = [1, 10, 100, 500, 1000]\n",
    "k = max(ps)"
   ]
  },
  {
   "cell_type": "code",
   "execution_count": 4,
   "id": "af5e3feb-cbed-4680-afa6-707c589822c1",
   "metadata": {},
   "outputs": [],
   "source": [
    "files = ['%s/%s' %(i, j) for i in os.listdir(trainfolder) for j in os.listdir('%s/%s' %(trainfolder, i))]"
   ]
  },
  {
   "cell_type": "code",
   "execution_count": 5,
   "id": "023ef19e-e057-49dc-917f-a2b6d6475aa0",
   "metadata": {},
   "outputs": [],
   "source": [
    "rawtrainpipe = DALIHadhValdImageFolders(root=trainfolder, files=files, size=size, batch_size=batch_size,\n",
    "                                        num_threads=6, device_id=dali_device)\n",
    "rawtrainloader = dali.plugin.pytorch.DALIGenericIterator([rawtrainpipe], reader_name ='reader', output_map=['image', 'label'],\n",
    "                                                    last_batch_policy=dali.plugin.base_iterator.LastBatchPolicy.PARTIAL)\n",
    "#valpipe = DALIValdImageFolders(root=valfolder, size=size, batch_size=batch_size, num_threads=4, device_id=dali_device)\n",
    "#valloader = dali.plugin.pytorch.DALIGenericIterator([valpipe], reader_name='reader', output_map=['image', 'label'],\n",
    "#                                                    last_batch_policy=dali.plugin.base_iterator.LastBatchPolicy.PARTIAL)"
   ]
  },
  {
   "cell_type": "code",
   "execution_count": 6,
   "id": "f5ac3a98-eec7-430a-9804-22bc03d2f228",
   "metadata": {
    "tags": []
   },
   "outputs": [],
   "source": [
    "with T.inference_mode():\n",
    "    with T.autocast(device_type='cuda', dtype=T.float16, enabled=use_amp):\n",
    "        model.load_state_dict(scp_Tload('%s/%04d.pth' %(root, epoch), map_location=device))\n",
    "        model = model.to(device, memory_format=T.channels_last)\n",
    "        X, y = extract_feature(rawtrainloader, model, device, normalize=True, use_amp=use_amp)\n",
    "        \n",
    "        smodel.load_state_dict(scp_Tload('%s/%04d.pth' %(sroot, sepoch), map_location=device))\n",
    "        smodel = smodel.to(device, memory_format=T.channels_last)\n",
    "        sX, sy = extract_feature(rawtrainloader, smodel, device, normalize=True, use_amp=use_amp)\n",
    "del model, smodel\n",
    "class_y = T.tensor([int(files[i][0]) for i in y]).to(device)"
   ]
  },
  {
   "cell_type": "code",
   "execution_count": 7,
   "id": "d22c57ea-17f4-4ce9-bc32-314f5f602018",
   "metadata": {},
   "outputs": [],
   "source": [
    "sX.cpu(), sy.cpu()\n",
    "T.cuda.empty_cache()"
   ]
  },
  {
   "cell_type": "code",
   "execution_count": 8,
   "id": "3961dc77-bf13-4943-8175-38310686755e",
   "metadata": {},
   "outputs": [],
   "source": [
    "with T.inference_mode():\n",
    "    cos = cos_similarity(X).cpu()\n",
    "    idx = range(0, 50000)\n",
    "    cos[idx, idx] -= 10\n",
    "    T.cuda.empty_cache()\n",
    "    tmp = T.topk(cos, k, dim=1, largest=True)"
   ]
  },
  {
   "cell_type": "code",
   "execution_count": 9,
   "id": "087fadf9-c83c-4f87-bbb8-0db356745c31",
   "metadata": {},
   "outputs": [
    {
     "name": "stdout",
     "output_type": "stream",
     "text": [
      "0.8730199933052063\n",
      "0.8472700119018555\n",
      "0.8046861886978149\n",
      "0.6674741506576538\n",
      "0.5273457765579224\n"
     ]
    }
   ],
   "source": [
    "for p in ps:\n",
    "    s = 0\n",
    "    for idx, i in enumerate(tmp[1]):\n",
    "        s += (class_y[idx] == class_y[i[:p]]).sum()\n",
    "        #print(class_y[idx] == class_y[i])\n",
    "    print((s / len(tmp[1]) / p).item())"
   ]
  },
  {
   "cell_type": "code",
   "execution_count": 10,
   "id": "89a6f5e6-b69b-4452-8c45-2aa5faf7ed73",
   "metadata": {},
   "outputs": [],
   "source": [
    "del cos, tmp\n",
    "T.cuda.empty_cache()\n",
    "sX.to(device), sy.to(device)\n",
    "with T.inference_mode():\n",
    "    cos = cos_similarity(sX).cpu()\n",
    "    idx = range(0, 50000)\n",
    "    cos[idx, idx] -= 10\n",
    "    T.cuda.empty_cache()\n",
    "    tmp = T.topk(cos, k, dim=1, largest=True)"
   ]
  },
  {
   "cell_type": "code",
   "execution_count": 11,
   "id": "571a35ec-1b35-40c4-a31d-3744aad83f39",
   "metadata": {},
   "outputs": [
    {
     "name": "stdout",
     "output_type": "stream",
     "text": [
      "0.9903199672698975\n",
      "0.989285945892334\n",
      "0.9885749816894531\n",
      "0.9881423115730286\n",
      "0.9879465699195862\n"
     ]
    }
   ],
   "source": [
    "for p in ps:\n",
    "    s = 0\n",
    "    for idx, i in enumerate(tmp[1]):\n",
    "        s += (class_y[idx] == class_y[i[:p]]).sum()\n",
    "        #print(class_y[idx] == class_y[i])\n",
    "    print((s / len(tmp[1]) / p).item())"
   ]
  },
  {
   "cell_type": "code",
   "execution_count": null,
   "id": "308fa7d6-0baa-43c0-9856-98e7ac99df11",
   "metadata": {},
   "outputs": [],
   "source": []
  }
 ],
 "metadata": {
  "kernelspec": {
   "display_name": "Python 3 (ipykernel)",
   "language": "python",
   "name": "python3"
  },
  "language_info": {
   "codemirror_mode": {
    "name": "ipython",
    "version": 3
   },
   "file_extension": ".py",
   "mimetype": "text/x-python",
   "name": "python",
   "nbconvert_exporter": "python",
   "pygments_lexer": "ipython3",
   "version": "3.10.9"
  }
 },
 "nbformat": 4,
 "nbformat_minor": 5
}

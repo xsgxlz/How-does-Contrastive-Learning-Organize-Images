{
 "cells": [
  {
   "cell_type": "code",
   "execution_count": 1,
   "id": "d0dbae68-bd61-435c-8c7c-053c909993cb",
   "metadata": {},
   "outputs": [
    {
     "name": "stderr",
     "output_type": "stream",
     "text": [
      "/public/ly/anaconda3/envs/zyz/lib/python3.10/site-packages/nvidia/dali/backend.py:46: Warning: DALI support for Python 3.10 is experimental and some functionalities may not work.\n",
      "  deprecation_warning(\"DALI support for Python 3.10 is experimental and some functionalities \"\n"
     ]
    }
   ],
   "source": [
    "from random import randint, random\n",
    "import collections\n",
    "import os\n",
    "import shutil\n",
    "\n",
    "import numpy as np\n",
    "import math\n",
    "import time\n",
    "from collections import deque\n",
    "import torch as T\n",
    "import torch.nn.functional as F\n",
    "import torch.nn as nn\n",
    "import torchvision\n",
    "import torchvision.transforms as transforms\n",
    "from tqdm import tqdm\n",
    "import sklearn.neighbors\n",
    "import sklearn.metrics\n",
    "import sklearn.mixture\n",
    "import matplotlib.pyplot as plt\n",
    "import PIL\n",
    "from nvidia.dali.plugin.pytorch import DALIGenericIterator\n",
    "\n",
    "from imageComponent import *\n",
    "from remote_read_write import scp_read_wrapper, scp_write_wrapper\n",
    "scp_Tload = scp_read_wrapper(T.load, 'ly_1112103017@172.16.35.121', 30907, '/public/ly/zyz/cluster_id_rsa', '/public/ly/zyz/imageCL/tmp')\n",
    "scp_Tsave = scp_write_wrapper(T.save, 'ly_1112103017@172.16.35.121', 30907, '/public/ly/zyz/cluster_id_rsa', '/public/ly/zyz/imageCL/tmp')\n",
    "\n",
    "dali_device = 2\n",
    "device = 'cuda:1'\n",
    "T.backends.cudnn.benchmark = True\n",
    "T.backends.cudnn.deterministic = True\n",
    "use_amp = False"
   ]
  },
  {
   "cell_type": "code",
   "execution_count": 2,
   "id": "015c4ba3-067e-490b-b683-47b414784e5c",
   "metadata": {},
   "outputs": [],
   "source": [
    "model = ResnetCifar(18)\n",
    "root = '/public/home/ly_1112103017/zyz/imageCL/ckpt/CLCifarRes18'\n",
    "epoch = 1200\n",
    "smodel = copy.deepcopy(model)\n",
    "sroot = '/public/home/ly_1112103017/zyz/imageCL/ckpt/SCifarRes18'\n",
    "sepoch = 120"
   ]
  },
  {
   "cell_type": "code",
   "execution_count": 3,
   "id": "5beff565-80cc-4040-b851-7e6f0923ece4",
   "metadata": {},
   "outputs": [],
   "source": [
    "trainfolder = '/public/ly/zyz/imageCL/dataset/cifar10-image/train'\n",
    "rawtrainfolder = '/public/ly/zyz/imageCL/dataset/cifar10-image/train'\n",
    "valfolder = '/public/ly/zyz/imageCL/dataset/cifar10-image/test'\n",
    "size = (32, 32)\n",
    "batch_size = 3125"
   ]
  },
  {
   "cell_type": "code",
   "execution_count": 4,
   "id": "af5e3feb-cbed-4680-afa6-707c589822c1",
   "metadata": {},
   "outputs": [],
   "source": [
    "files = ['%s/%s' %(i, j) for i in os.listdir(trainfolder) for j in os.listdir('%s/%s' %(trainfolder, i))]"
   ]
  },
  {
   "cell_type": "code",
   "execution_count": 5,
   "id": "023ef19e-e057-49dc-917f-a2b6d6475aa0",
   "metadata": {},
   "outputs": [],
   "source": [
    "rawtrainpipe = DALIHadhValdImageFolders(root=trainfolder, files=files, size=size, batch_size=batch_size,\n",
    "                                        num_threads=6, device_id=dali_device)\n",
    "rawtrainloader = dali.plugin.pytorch.DALIGenericIterator([rawtrainpipe], reader_name ='reader', output_map=['image', 'label'],\n",
    "                                                    last_batch_policy=dali.plugin.base_iterator.LastBatchPolicy.PARTIAL)\n",
    "#valpipe = DALIValdImageFolders(root=valfolder, size=size, batch_size=batch_size, num_threads=4, device_id=dali_device)\n",
    "#valloader = dali.plugin.pytorch.DALIGenericIterator([valpipe], reader_name='reader', output_map=['image', 'label'],\n",
    "#                                                    last_batch_policy=dali.plugin.base_iterator.LastBatchPolicy.PARTIAL)"
   ]
  },
  {
   "cell_type": "code",
   "execution_count": 6,
   "id": "f5ac3a98-eec7-430a-9804-22bc03d2f228",
   "metadata": {
    "tags": []
   },
   "outputs": [],
   "source": [
    "with T.inference_mode():\n",
    "    with T.autocast(device_type='cuda', dtype=T.float16, enabled=use_amp):\n",
    "        model.load_state_dict(scp_Tload('%s/%04d.pth' %(root, epoch), map_location=device))\n",
    "        model = model.to(device, memory_format=T.channels_last)\n",
    "        X, y = extract_feature(rawtrainloader, model, device, normalize=True, use_amp=use_amp)\n",
    "        \n",
    "        smodel.load_state_dict(scp_Tload('%s/%04d.pth' %(sroot, sepoch), map_location=device))\n",
    "        smodel = smodel.to(device, memory_format=T.channels_last)\n",
    "        sX, sy = extract_feature(rawtrainloader, smodel, device, normalize=True, use_amp=use_amp)\n",
    "del model, smodel\n",
    "class_y = T.tensor([int(files[i][0]) for i in y]).to(device)"
   ]
  },
  {
   "cell_type": "code",
   "execution_count": 7,
   "id": "de42aa0b-4552-4fd8-8af8-72a286dd6a4e",
   "metadata": {},
   "outputs": [],
   "source": [
    "T.save((X, y, sX, sy, class_y), '/public/ly/zyz/imageCL/feature/Res18.pth')"
   ]
  },
  {
   "cell_type": "raw",
   "id": "56d56f21-06c3-4add-9760-fc315978ceb3",
   "metadata": {},
   "source": [
    "with T.inference_mode():\n",
    "    tau = 0.05\n",
    "    for i in range(100):\n",
    "        tau = tau / 1.01\n",
    "        cos = cos_similarity(X)\n",
    "        #idx = class_y[:, None] == class_y[None]\n",
    "        #cos -= idx * 10\n",
    "        idx = list(range(len(y)))\n",
    "        cos[idx, idx] = float('-inf')\n",
    "        cos /= tau\n",
    "        label = F.softmax(cos, dim=1)\n",
    "        del cos\n",
    "        l = T.zeros(50000, 10)\n",
    "        for i in range(10):\n",
    "            l[:, i] = label[:, class_y == i].sum(dim=1)\n",
    "        l = T.argmax(l, dim=1)\n",
    "        print(tau)\n",
    "        print((l == class_y.cpu()).sum() / 50000)\n",
    "        del l, idx, label"
   ]
  },
  {
   "cell_type": "code",
   "execution_count": null,
   "id": "c25e535b-166f-47b8-b2ea-0d191644e7d8",
   "metadata": {},
   "outputs": [],
   "source": []
  },
  {
   "cell_type": "code",
   "execution_count": null,
   "id": "e5c59ac3-6a94-4b9c-a0db-845af1e9a3b4",
   "metadata": {},
   "outputs": [],
   "source": [
    "nX = X - X.min()"
   ]
  },
  {
   "cell_type": "code",
   "execution_count": null,
   "id": "5515d381-5a55-4ce3-8b3e-fd94f57aa7de",
   "metadata": {},
   "outputs": [],
   "source": [
    "nX /= nX.max()"
   ]
  },
  {
   "cell_type": "code",
   "execution_count": null,
   "id": "e2d08d47-6b05-4a70-a616-90a71d21bb30",
   "metadata": {},
   "outputs": [],
   "source": [
    "with T.inference_mode():\n",
    "    tnX = tsne(nX[:5000], 2, 50, perplexity=4900)"
   ]
  },
  {
   "cell_type": "code",
   "execution_count": null,
   "id": "7f409080-9b3b-474d-98e3-a721424a9713",
   "metadata": {},
   "outputs": [],
   "source": [
    "tnX = tnX.cpu().numpy()\n",
    "class_y = class_y[:5000].cpu().numpy()"
   ]
  },
  {
   "cell_type": "code",
   "execution_count": null,
   "id": "0d1397da-ffc2-4e09-b49e-4ce3b1193e52",
   "metadata": {},
   "outputs": [],
   "source": [
    "for i in range(10):\n",
    "    idx = class_y == i\n",
    "    plt.scatter(tnX[idx, 0], tnX[idx, 1], alpha=0.6)"
   ]
  },
  {
   "cell_type": "code",
   "execution_count": null,
   "id": "5ffcb04a-7894-49ce-95cd-f1665285765a",
   "metadata": {},
   "outputs": [],
   "source": []
  },
  {
   "cell_type": "markdown",
   "id": "2f8a95fe-7929-47a2-8a41-2286a9632007",
   "metadata": {},
   "source": [
    "sX.cpu(), sy.cpu()\n",
    "T.cuda.empty_cache()"
   ]
  },
  {
   "cell_type": "markdown",
   "id": "53f631d9-90ee-4ad3-aaca-052826c28496",
   "metadata": {},
   "source": [
    "with T.inference_mode():\n",
    "    cos = cos_similarity(X)\n",
    "    idx = (class_y[:, None] == class_y[None]).int()\n",
    "    idx *= 10\n",
    "    cos -= idx\n",
    "    #idx = list(range(len(y)))\n",
    "    #cos[idx, idx] = -10000\n",
    "    cos = cos.flatten()\n",
    "    tmp = T.max(cos, dim=0)\n",
    "    del cos, idx\n",
    "T.cuda.empty_cache()"
   ]
  },
  {
   "cell_type": "markdown",
   "id": "474fceed-d7d9-4c00-8a09-6b98617c167e",
   "metadata": {},
   "source": [
    "k = files[y[tmp[1] // 50000]]\n",
    "v = files[y[tmp[1] % 50000]]"
   ]
  },
  {
   "cell_type": "markdown",
   "id": "eb3f1f6c-6a41-4eb1-80d5-3edfc898ab7f",
   "metadata": {},
   "source": [
    "os.makedirs('%s' %root[-3:])\n",
    "shutil.copy('%s/%s' %(trainfolder, k), '%s/%fk.png' %(root[-3:], tmp[0].item()))\n",
    "shutil.copy('%s/%s' %(trainfolder, v), '%s/%fv.png' %(root[-3:], tmp[0].item()))"
   ]
  },
  {
   "cell_type": "markdown",
   "id": "101bfc14-72e4-447b-9e28-0ade4e776dbe",
   "metadata": {},
   "source": [
    "with T.inference_mode():\n",
    "    sX.to(device), sy.to(device)\n",
    "    scos = (sX[y[tmp[1] // 50000]] * sX[y[tmp[1] % 50000]]).sum()"
   ]
  },
  {
   "cell_type": "code",
   "execution_count": 12,
   "id": "1fd8139e-bb8e-42db-9751-6006feb2fca1",
   "metadata": {},
   "outputs": [
    {
     "data": {
      "text/plain": [
       "tensor(-0.0698, device='cuda:3')"
      ]
     },
     "execution_count": 12,
     "metadata": {},
     "output_type": "execute_result"
    }
   ],
   "source": [
    "scos"
   ]
  },
  {
   "cell_type": "raw",
   "id": "48f00aef-71bf-473f-b5d2-b767efb8400c",
   "metadata": {},
   "source": [
    "with T.inference_mode():\n",
    "    idx = cos <= 9\n",
    "    cos[~idx] = -10000\n",
    "    tmp = T.topk(cos, 1000, largest=True)\n",
    "r = []\n",
    "for i in tmp[1]:\n",
    "    k = files[y[i // 50000]]\n",
    "    v = files[y[i % 50000]]\n",
    "    r.append((k, v))"
   ]
  },
  {
   "cell_type": "raw",
   "id": "a40b875c-64d0-4181-a6ea-aeda346c9cfd",
   "metadata": {},
   "source": [
    "idx = 0\n",
    "PIL.Image.open('%s/%s' %(trainfolder, r[idx][0]))"
   ]
  },
  {
   "cell_type": "raw",
   "id": "0c696bf0-9f5a-4a5c-bcb2-4ae046c27583",
   "metadata": {},
   "source": [
    "PIL.Image.open('%s/%s' %(trainfolder, r[idx][1]))"
   ]
  },
  {
   "cell_type": "raw",
   "id": "b20ae064-af0f-49d0-97fa-9a2371038e13",
   "metadata": {},
   "source": [
    "scp_Tsave((X, y), '/public/home/ly_1112103017/zyz/imageCL/ckpt/VtrainXy.pth')"
   ]
  },
  {
   "cell_type": "raw",
   "id": "9d9bac61-0214-463d-a77a-2366125a5639",
   "metadata": {},
   "source": [
    "with T.inference_mode():\n",
    "    with T.autocast(device_type='cuda', dtype=T.float16, enabled=use_amp):\n",
    "        model.load_state_dict(scp_Tload('%s/%04d.pth' %(root, 1200), map_location=device))\n",
    "        model = model.to(device, memory_format=T.channels_last)\n",
    "        X, y = extract_feature(valloader, model, device, normalize=True, use_amp=use_amp)"
   ]
  },
  {
   "cell_type": "raw",
   "id": "dfaf3a66-c6a9-43a5-8d3e-8686dc837579",
   "metadata": {},
   "source": [
    "scp_Tsave((X, y), '/public/home/ly_1112103017/zyz/imageCL/ckpt/VvalXy.pth')"
   ]
  },
  {
   "cell_type": "code",
   "execution_count": null,
   "id": "89a6f5e6-b69b-4452-8c45-2aa5faf7ed73",
   "metadata": {},
   "outputs": [],
   "source": []
  },
  {
   "cell_type": "code",
   "execution_count": null,
   "id": "571a35ec-1b35-40c4-a31d-3744aad83f39",
   "metadata": {},
   "outputs": [],
   "source": []
  }
 ],
 "metadata": {
  "kernelspec": {
   "display_name": "Python 3 (ipykernel)",
   "language": "python",
   "name": "python3"
  },
  "language_info": {
   "codemirror_mode": {
    "name": "ipython",
    "version": 3
   },
   "file_extension": ".py",
   "mimetype": "text/x-python",
   "name": "python",
   "nbconvert_exporter": "python",
   "pygments_lexer": "ipython3",
   "version": "3.10.9"
  }
 },
 "nbformat": 4,
 "nbformat_minor": 5
}

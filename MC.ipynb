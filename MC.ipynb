{
 "cells": [
  {
   "cell_type": "code",
   "execution_count": 1,
   "id": "5378d258-48a7-4ae8-93a0-20acf6984074",
   "metadata": {},
   "outputs": [
    {
     "name": "stderr",
     "output_type": "stream",
     "text": [
      "/public/ly/anaconda3/envs/zyz/lib/python3.10/site-packages/nvidia/dali/backend.py:46: Warning: DALI support for Python 3.10 is experimental and some functionalities may not work.\n",
      "  deprecation_warning(\"DALI support for Python 3.10 is experimental and some functionalities \"\n"
     ]
    }
   ],
   "source": [
    "from random import randint, random\n",
    "import collections\n",
    "import os\n",
    "import shutil\n",
    "\n",
    "import numpy as np\n",
    "import math\n",
    "import time\n",
    "from collections import deque\n",
    "import torch as T\n",
    "import torch.nn.functional as F\n",
    "import torch.nn as nn\n",
    "import torchvision\n",
    "import torchvision.transforms as transforms\n",
    "from tqdm import tqdm\n",
    "import sklearn.neighbors\n",
    "import sklearn.metrics\n",
    "import sklearn.mixture\n",
    "import matplotlib.pyplot as plt\n",
    "import PIL\n",
    "from nvidia.dali.plugin.pytorch import DALIGenericIterator\n",
    "\n",
    "from imageComponent import *\n",
    "from remote_read_write import scp_read_wrapper, scp_write_wrapper\n",
    "scp_Tload = scp_read_wrapper(T.load, 'ly_1112103017@172.16.35.121', 30907, '/public/ly/zyz/cluster_id_rsa', '/public/ly/zyz/imageCL/tmp')\n",
    "scp_Tsave = scp_write_wrapper(T.save, 'ly_1112103017@172.16.35.121', 30907, '/public/ly/zyz/cluster_id_rsa', '/public/ly/zyz/imageCL/tmp')\n",
    "\n",
    "dali_device = 2\n",
    "device = 'cuda:3'\n",
    "T.backends.cudnn.benchmark = True\n",
    "T.backends.cudnn.deterministic = True\n",
    "use_amp = False"
   ]
  },
  {
   "cell_type": "code",
   "execution_count": 2,
   "id": "0ba3d844-2fb2-4e35-b81a-3421b8826f40",
   "metadata": {},
   "outputs": [],
   "source": [
    "size = (32, 32)\n",
    "total = 100000000\n",
    "batch_size = 25000"
   ]
  },
  {
   "cell_type": "code",
   "execution_count": 3,
   "id": "b2a757f8-8b3a-425d-8dd4-491a0706d57d",
   "metadata": {},
   "outputs": [],
   "source": [
    "files = ['/public/ly/zyz/imageCL/101/0.998330k.png', '/public/ly/zyz/imageCL/101/0.998330v.png']"
   ]
  },
  {
   "cell_type": "code",
   "execution_count": 4,
   "id": "c4e5dd36-7df1-4457-86a4-d8b15fa03e4b",
   "metadata": {},
   "outputs": [],
   "source": [
    "CLtrainpipe = DALIOverlapCLImageFolders(files=files, size=size, batch_size=batch_size,\n",
    "                                        num_threads=1, device_id=dali_device)\n",
    "CLtrainloader = dali.plugin.pytorch.DALIGenericIterator([CLtrainpipe], reader_name ='reader', output_map=['image1', 'image2', 'label'],\n",
    "                                                    last_batch_policy=dali.plugin.base_iterator.LastBatchPolicy.FILL)"
   ]
  },
  {
   "cell_type": "code",
   "execution_count": null,
   "id": "f304ec05-ef5a-478a-8707-3cd26a2e0b2b",
   "metadata": {},
   "outputs": [
    {
     "name": "stderr",
     "output_type": "stream",
     "text": [
      "  1%|█▏                                                                                                                                                | 33/4000 [01:29<3:06:24,  2.82s/it]"
     ]
    }
   ],
   "source": [
    "overlap = 0\n",
    "with T.inference_mode():\n",
    "    for i in range(total // batch_size):\n",
    "        for data in CLtrainloader:\n",
    "            img1 = data[0]['image1']\n",
    "            img2 = data[0]['image2']\n",
    "            overlap += (img1 == img2).all(dim=-1).all(dim=-1).all(dim=-1).sum()\n",
    "            #print((img1 == img2).all(dim=-1).all(dim=-1).all(dim=-1).shape)\n",
    "            if overlap > 0:\n",
    "                print(overlap)"
   ]
  },
  {
   "cell_type": "code",
   "execution_count": null,
   "id": "20e61884-33df-4f4a-9f69-88b5d01b4a2e",
   "metadata": {},
   "outputs": [],
   "source": []
  }
 ],
 "metadata": {
  "kernelspec": {
   "display_name": "Python 3 (ipykernel)",
   "language": "python",
   "name": "python3"
  },
  "language_info": {
   "codemirror_mode": {
    "name": "ipython",
    "version": 3
   },
   "file_extension": ".py",
   "mimetype": "text/x-python",
   "name": "python",
   "nbconvert_exporter": "python",
   "pygments_lexer": "ipython3",
   "version": "3.10.9"
  }
 },
 "nbformat": 4,
 "nbformat_minor": 5
}

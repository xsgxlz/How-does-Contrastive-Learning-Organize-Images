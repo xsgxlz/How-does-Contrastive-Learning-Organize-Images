{
 "cells": [
  {
   "cell_type": "code",
   "execution_count": 1,
   "id": "0cd8056a-6ab7-4c37-8932-00160c931252",
   "metadata": {},
   "outputs": [
    {
     "name": "stderr",
     "output_type": "stream",
     "text": [
      "/public/ly/anaconda3/envs/zyz/lib/python3.10/site-packages/nvidia/dali/backend.py:46: Warning: DALI support for Python 3.10 is experimental and some functionalities may not work.\n",
      "  deprecation_warning(\"DALI support for Python 3.10 is experimental and some functionalities \"\n"
     ]
    }
   ],
   "source": [
    "from random import randint, random\n",
    "import collections\n",
    "import os\n",
    "\n",
    "import numpy as np\n",
    "import math\n",
    "import time\n",
    "from collections import deque\n",
    "import torch as T\n",
    "import torch.nn.functional as F\n",
    "import torch.nn as nn\n",
    "import torchvision\n",
    "import torchvision.transforms as transforms\n",
    "from tqdm import tqdm\n",
    "import sklearn.neighbors\n",
    "import sklearn.metrics\n",
    "import sklearn.mixture\n",
    "import networkx.algorithms.community as nx_comm\n",
    "from scipy import stats\n",
    "import networkx as nx\n",
    "import matplotlib.pyplot as plt\n",
    "import PIL\n",
    "from nvidia.dali.plugin.pytorch import DALIGenericIterator\n",
    "\n",
    "from imageComponent import *\n",
    "from remote_read_write import scp_read_wrapper, scp_write_wrapper\n",
    "scp_Tload = scp_read_wrapper(T.load, 'ly_1112103017@172.16.35.121', 30907, '/public/ly/zyz/cluster_id_rsa', '/public/ly/zyz/imageCL/tmp')\n",
    "scp_Tsave = scp_write_wrapper(T.save, 'ly_1112103017@172.16.35.121', 30907, '/public/ly/zyz/cluster_id_rsa', '/public/ly/zyz/imageCL/tmp')\n",
    "\n",
    "dali_device = 2\n",
    "device = 'cuda:2'\n",
    "T.backends.cudnn.benchmark = True\n",
    "T.backends.cudnn.deterministic = True\n",
    "use_amp = False"
   ]
  },
  {
   "cell_type": "code",
   "execution_count": 2,
   "id": "859dec77-cddc-4c45-be35-4f128ee6ee4b",
   "metadata": {},
   "outputs": [],
   "source": [
    "tX, ty = scp_Tload('/public/home/ly_1112103017/zyz/imageCL/ckpt/VtrainXy.pth', map_location=device)\n",
    "vX, vy = scp_Tload('/public/home/ly_1112103017/zyz/imageCL/ckpt/VvalXy.pth', map_location=device)"
   ]
  },
  {
   "cell_type": "code",
   "execution_count": 3,
   "id": "21a32b22-3ed6-4add-9fbc-0a19709dcfe3",
   "metadata": {},
   "outputs": [],
   "source": [
    "gh = GraphHead(0.1, mask_p=[0.05, 0.6], tolerate=50, label_smoothing=0.1, lr=1e-1, use_amp=False, verbose=0).fit(tX, ty, vX, vy)"
   ]
  },
  {
   "cell_type": "code",
   "execution_count": 4,
   "id": "783df0db-1cb3-4aec-90bd-dad6a61b6095",
   "metadata": {},
   "outputs": [
    {
     "data": {
      "text/plain": [
       "0.9003645200486027"
      ]
     },
     "execution_count": 4,
     "metadata": {},
     "output_type": "execute_result"
    }
   ],
   "source": [
    "gh.best_acc"
   ]
  },
  {
   "cell_type": "code",
   "execution_count": 5,
   "id": "7125941d-0398-451b-8093-5b4d0206eb21",
   "metadata": {},
   "outputs": [
    {
     "data": {
      "text/plain": [
       "0.8574"
      ]
     },
     "execution_count": 5,
     "metadata": {},
     "output_type": "execute_result"
    }
   ],
   "source": [
    "gh.best_val_acc"
   ]
  },
  {
   "cell_type": "code",
   "execution_count": 6,
   "id": "d016c2b8-5e7a-470b-9ac0-73f3519e6574",
   "metadata": {},
   "outputs": [],
   "source": [
    "lh = NNHead(nn.Linear, tolerate=30, label_smoothing=0.1, lr=1e-1, use_amp=False, verbose=0).fit(tX, ty, vX, vy)"
   ]
  },
  {
   "cell_type": "code",
   "execution_count": 7,
   "id": "a6e47e12-22c5-4ec1-b50b-6d17f9dc130c",
   "metadata": {},
   "outputs": [
    {
     "data": {
      "text/plain": [
       "0.8834"
      ]
     },
     "execution_count": 7,
     "metadata": {},
     "output_type": "execute_result"
    }
   ],
   "source": [
    "lh.best_acc"
   ]
  },
  {
   "cell_type": "code",
   "execution_count": 8,
   "id": "11c61d4e-ab49-47bb-b0ed-1f41f98abe71",
   "metadata": {},
   "outputs": [
    {
     "data": {
      "text/plain": [
       "0.8643"
      ]
     },
     "execution_count": 8,
     "metadata": {},
     "output_type": "execute_result"
    }
   ],
   "source": [
    "lh.best_val_acc"
   ]
  },
  {
   "cell_type": "code",
   "execution_count": null,
   "id": "94611147-e670-4d44-b864-13faebbfb36d",
   "metadata": {},
   "outputs": [],
   "source": []
  }
 ],
 "metadata": {
  "kernelspec": {
   "display_name": "Python 3 (ipykernel)",
   "language": "python",
   "name": "python3"
  },
  "language_info": {
   "codemirror_mode": {
    "name": "ipython",
    "version": 3
   },
   "file_extension": ".py",
   "mimetype": "text/x-python",
   "name": "python",
   "nbconvert_exporter": "python",
   "pygments_lexer": "ipython3",
   "version": "3.10.9"
  }
 },
 "nbformat": 4,
 "nbformat_minor": 5
}

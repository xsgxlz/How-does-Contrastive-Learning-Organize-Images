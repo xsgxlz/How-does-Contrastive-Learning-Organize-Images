{
 "cells": [
  {
   "cell_type": "code",
   "execution_count": 1,
   "id": "c6373a75-74bf-4524-bb27-bc28fc11a4df",
   "metadata": {},
   "outputs": [
    {
     "name": "stderr",
     "output_type": "stream",
     "text": [
      "/public/ly/anaconda3/envs/zyz/lib/python3.10/site-packages/nvidia/dali/backend.py:46: Warning: DALI support for Python 3.10 is experimental and some functionalities may not work.\n",
      "  deprecation_warning(\"DALI support for Python 3.10 is experimental and some functionalities \"\n"
     ]
    }
   ],
   "source": [
    "from random import randint, random\n",
    "\n",
    "import numpy as np\n",
    "import math\n",
    "import time\n",
    "from collections import deque\n",
    "import torch as T\n",
    "import torch.nn.functional as F\n",
    "import torch.nn as nn\n",
    "import torchvision\n",
    "import torchvision.transforms as transforms\n",
    "from tqdm import tqdm\n",
    "import sklearn.neighbors\n",
    "import sklearn.metrics\n",
    "import matplotlib.pyplot as plt\n",
    "import PIL\n",
    "from nvidia.dali.plugin.pytorch import DALIGenericIterator\n",
    "\n",
    "from torchvision.models.vision_transformer import VisionTransformer\n",
    "\n",
    "from imageComponent import *\n",
    "from remote_read_write import scp_read_wrapper, scp_write_wrapper\n",
    "\n",
    "dali_device = 1\n",
    "device = 'cuda:1'\n",
    "T.backends.cudnn.benchmark = True\n",
    "use_amp = True"
   ]
  },
  {
   "cell_type": "code",
   "execution_count": 2,
   "id": "9b4c7fb0-b36f-4990-a488-c491c8766a23",
   "metadata": {},
   "outputs": [],
   "source": [
    "model = ViTCifar()\n",
    "root = '/public/home/ly_1112103017/zyz/imageCL/ckpt/CLCifarViT2'"
   ]
  },
  {
   "cell_type": "code",
   "execution_count": 3,
   "id": "bfac5223-b2fb-4011-bcae-d89332dbd4c8",
   "metadata": {},
   "outputs": [],
   "source": [
    "dataset = '/public/ly/zyz/imageCL/dataset/cifar10-image/train'"
   ]
  },
  {
   "cell_type": "code",
   "execution_count": 4,
   "id": "ab00ad45-d591-439f-9748-ae1189fcecc0",
   "metadata": {},
   "outputs": [],
   "source": [
    "scp_Tload = scp_read_wrapper(T.load, 'ly_1112103017@172.16.35.121', 30907, '/public/ly/zyz/cluster_id_rsa', '/public/ly/zyz/imageCL/tmp')\n",
    "scp_Tsave = scp_write_wrapper(T.save, 'ly_1112103017@172.16.35.121', 30907, '/public/ly/zyz/cluster_id_rsa', '/public/ly/zyz/imageCL/tmp')"
   ]
  },
  {
   "cell_type": "code",
   "execution_count": 5,
   "id": "2d54b41a-4664-4a2b-ae08-40422c411a5d",
   "metadata": {},
   "outputs": [],
   "source": [
    "size = (32, 32)\n",
    "\n",
    "batch_size = 700\n",
    "lr = 1e-5\n",
    "epoch = 2400\n",
    "strength = 1\n",
    "random_crop_area = [0.2, 1.0]\n",
    "\n",
    "warmlr = 1e-3\n",
    "warmep = 150\n",
    "eta_min = 1e-2\n",
    "\n",
    "neg_sample = 128000"
   ]
  },
  {
   "cell_type": "code",
   "execution_count": 6,
   "id": "a370611e-2e83-4aa6-aaa1-21355cb7072d",
   "metadata": {},
   "outputs": [],
   "source": [
    "pipe = DALICLImageFolders(dataset, size, random_crop_area, strength, batch_size = batch_size, num_threads=8, device_id=dali_device)\n",
    "loader = dali.plugin.pytorch.DALIGenericIterator([pipe], reader_name = 'reader', output_map = ['img1', 'img2', 'label'],\n",
    "                                                 last_batch_policy = dali.plugin.base_iterator.LastBatchPolicy.DROP)"
   ]
  },
  {
   "cell_type": "code",
   "execution_count": 7,
   "id": "27c3e3b1-152f-4fc4-b9f1-26191ed1ee6c",
   "metadata": {},
   "outputs": [],
   "source": [
    "moco = MoCo(model, math.ceil(neg_sample / batch_size))\n",
    "moco = moco.to(device, memory_format = T.channels_last)\n",
    "optim = T.optim.AdamW(moco.parameters(), lr = lr * batch_size / 256)\n",
    "scheduler1 = T.optim.lr_scheduler.LambdaLR(optim, lambda x:min(1, warmlr + x * (1 - warmlr) / warmep))\n",
    "scheduler2 = T.optim.lr_scheduler.CosineAnnealingWarmRestarts(optim, epoch, T_mult = 2, eta_min = eta_min)\n",
    "scheduler = T.optim.lr_scheduler.SequentialLR(optim, schedulers = [scheduler1, scheduler2], milestones = [warmep])"
   ]
  },
  {
   "cell_type": "code",
   "execution_count": null,
   "id": "43f6cb21-3464-45d5-a358-9b855ef5844a",
   "metadata": {},
   "outputs": [
    {
     "name": "stdout",
     "output_type": "stream",
     "text": [
      "epoch:0\tloss:560.794092\n",
      "60.24011850357056\n",
      "\n",
      "epoch:1\tloss:636.715875\n",
      "61.20248746871948\n",
      "\n",
      "epoch:2\tloss:662.802594\n",
      "58.966673851013184\n",
      "\n",
      "epoch:3\tloss:664.968444\n",
      "58.80326199531555\n",
      "\n",
      "epoch:4\tloss:663.240236\n",
      "57.9626624584198\n",
      "\n",
      "epoch:5\tloss:661.091111\n",
      "57.85875964164734\n",
      "\n",
      "epoch:6\tloss:658.919560\n",
      "57.66527032852173\n",
      "\n",
      "epoch:7\tloss:657.070302\n",
      "57.59921836853027\n",
      "\n",
      "epoch:8\tloss:654.873638\n",
      "57.15377402305603\n",
      "\n",
      "epoch:9\tloss:653.053690\n",
      "57.62680006027222\n",
      "\n",
      "epoch:10\tloss:652.104828\n",
      "57.43871307373047\n",
      "\n"
     ]
    }
   ],
   "source": [
    "scaler = T.cuda.amp.GradScaler(enabled = use_amp)\n",
    "scp_Tsave(moco.base_encoder.state_dict(), '%s/%04d.pth' %(root, 0))\n",
    "moco = moco.to(device, memory_format = T.channels_last)\n",
    "loss_r = []\n",
    "for e in range(epoch):\n",
    "    l = 0\n",
    "    t = time.time()\n",
    "    for data in loader:\n",
    "        with T.no_grad():\n",
    "            img1 = data[0]['img1']\n",
    "            img2 = data[0]['img2']\n",
    "            img1, img2= img1.to(device, memory_format = T.channels_last), img2.to(device, memory_format = T.channels_last)\n",
    "        with T.autocast(device_type = 'cuda', dtype = T.float16, enabled = use_amp):\n",
    "            loss = moco(img1, img2)\n",
    "        scaler.scale(loss).backward()\n",
    "        scaler.step(optim)\n",
    "        scaler.update()\n",
    "        optim.zero_grad(set_to_none = True)\n",
    "        l = l + loss.item()\n",
    "    scp_Tsave(moco.base_encoder.state_dict(), '%s/%04d.pth' %(root, e + 1))\n",
    "    print('epoch:%d\\tloss:%f' %(e, l))\n",
    "    print(time.time() - t, end = '\\n\\n')\n",
    "    loss_r.append(l)\n",
    "    scp_Tsave(loss_r, '%s/loss.pth' %root)\n",
    "    scheduler.step()"
   ]
  },
  {
   "cell_type": "code",
   "execution_count": null,
   "id": "f57f36d4-a8bd-4b7b-a68a-1c708e515734",
   "metadata": {},
   "outputs": [],
   "source": []
  }
 ],
 "metadata": {
  "kernelspec": {
   "display_name": "Python 3 (ipykernel)",
   "language": "python",
   "name": "python3"
  },
  "language_info": {
   "codemirror_mode": {
    "name": "ipython",
    "version": 3
   },
   "file_extension": ".py",
   "mimetype": "text/x-python",
   "name": "python",
   "nbconvert_exporter": "python",
   "pygments_lexer": "ipython3",
   "version": "3.10.9"
  }
 },
 "nbformat": 4,
 "nbformat_minor": 5
}

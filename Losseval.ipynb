{
 "cells": [
  {
   "cell_type": "code",
   "execution_count": 1,
   "id": "7338df55-ca4d-4eb3-bb2a-8fbd9d7e2e0a",
   "metadata": {},
   "outputs": [
    {
     "name": "stderr",
     "output_type": "stream",
     "text": [
      "/public/ly/anaconda3/envs/zyz/lib/python3.10/site-packages/nvidia/dali/backend.py:46: Warning: DALI support for Python 3.10 is experimental and some functionalities may not work.\n",
      "  deprecation_warning(\"DALI support for Python 3.10 is experimental and some functionalities \"\n"
     ]
    }
   ],
   "source": [
    "from random import randint, random\n",
    "import collections\n",
    "import os\n",
    "\n",
    "import numpy as np\n",
    "import math\n",
    "import time\n",
    "from collections import deque\n",
    "import torch as T\n",
    "import torch.nn.functional as F\n",
    "import torch.nn as nn\n",
    "import torchvision\n",
    "import torchvision.transforms as transforms\n",
    "from tqdm import tqdm\n",
    "import sklearn.neighbors\n",
    "import sklearn.metrics\n",
    "import sklearn.mixture\n",
    "import networkx.algorithms.community as nx_comm\n",
    "from scipy import stats\n",
    "import networkx as nx\n",
    "import matplotlib.pyplot as plt\n",
    "import PIL\n",
    "from nvidia.dali.plugin.pytorch import DALIGenericIterator\n",
    "\n",
    "from imageComponent import *\n",
    "from remote_read_write import scp_read_wrapper, scp_write_wrapper\n",
    "scp_Tload = scp_read_wrapper(T.load, 'ly_1112103017@172.16.35.121', 30907, '/public/ly/zyz/cluster_id_rsa', '/public/ly/zyz/imageCL/tmp')\n",
    "scp_Tsave = scp_write_wrapper(T.save, 'ly_1112103017@172.16.35.121', 30907, '/public/ly/zyz/cluster_id_rsa', '/public/ly/zyz/imageCL/tmp')\n",
    "\n",
    "\n",
    "dali_device = 1\n",
    "device = 'cuda:2'\n",
    "T.backends.cudnn.benchmark = True\n",
    "use_amp = False"
   ]
  },
  {
   "cell_type": "code",
   "execution_count": 2,
   "id": "39c5d7e1-6d47-4f95-970f-7ea037a69f44",
   "metadata": {},
   "outputs": [],
   "source": [
    "model = ViTCifar()\n",
    "root = '/public/home/ly_1112103017/zyz/imageCL/ckpt/CLBadCifarViT2'"
   ]
  },
  {
   "cell_type": "markdown",
   "id": "d8983d3b-9b34-4cf3-a07b-47441fb71a90",
   "metadata": {},
   "source": [
    "model = resnetToCifar(torchvision.models.resnet18())\n",
    "model.fc = nn.Linear(512, 512)\n",
    "root = '/public/home/ly_1112103017/zyz/imageCL/ckpt/CLCifarRes18'"
   ]
  },
  {
   "cell_type": "code",
   "execution_count": 3,
   "id": "b3e89bf5-ae2e-4eed-8d73-44ef7fb616e1",
   "metadata": {},
   "outputs": [],
   "source": [
    "dataset = '/public/ly/zyz/imageCL/dataset/cifar10-image2/train'"
   ]
  },
  {
   "cell_type": "code",
   "execution_count": 4,
   "id": "0cf0ddba-2e9b-44ec-aaca-135fad511ce0",
   "metadata": {},
   "outputs": [],
   "source": [
    "size = (32, 32)\n",
    "\n",
    "batch_size = 1000\n",
    "strength = 1\n",
    "random_crop_area = [0.2, 1.0]"
   ]
  },
  {
   "cell_type": "code",
   "execution_count": 5,
   "id": "ea7bb4f2-ee9e-4a19-8bdd-9a0772624497",
   "metadata": {},
   "outputs": [],
   "source": [
    "pipe = DALICLImageFolders(dataset, size, random_crop_area, strength, batch_size = batch_size, num_threads=4, device_id=dali_device)\n",
    "loader = dali.plugin.pytorch.DALIGenericIterator([pipe], reader_name = 'reader', output_map = ['img1', 'img2', 'label'],\n",
    "                                                 last_batch_policy = dali.plugin.base_iterator.LastBatchPolicy.PARTIAL)"
   ]
  },
  {
   "cell_type": "code",
   "execution_count": 6,
   "id": "17606b73-c918-4b1c-a002-23640d0f7af7",
   "metadata": {},
   "outputs": [],
   "source": [
    "@T.inference_mode()\n",
    "def CL_loss_eval(encoder, loader, device, use_amp=True):\n",
    "    encoder = encoder.to(device, memory_format=T.channels_last).eval()\n",
    "    scaler = T.cuda.amp.GradScaler(enabled = use_amp)\n",
    "    loss = []\n",
    "    for _ in range(1):\n",
    "        q, k = [], []\n",
    "        with T.autocast(device_type='cuda', dtype=T.float16, enabled=use_amp):\n",
    "            for data in loader:\n",
    "                img1 = data[0]['img1'].to(device, memory_format=T.channels_last)\n",
    "                img2 = data[0]['img2'].to(device, memory_format=T.channels_last)\n",
    "                q.append(encoder(img1).cpu())\n",
    "                k.append(encoder(img2).cpu())\n",
    "            q = T.cat(q, dim=0).to(device)\n",
    "            k = T.cat(k, dim=0).to(device)\n",
    "            #return q, k\n",
    "            loss.append((contrastive_loss(q, k) + contrastive_loss(k, q)).item())\n",
    "            #print(loss)\n",
    "    return sum(loss) / len(loss)"
   ]
  },
  {
   "cell_type": "code",
   "execution_count": null,
   "id": "88ee72c9-9dae-4dd1-ac90-408d56ecbaf1",
   "metadata": {},
   "outputs": [
    {
     "name": "stdout",
     "output_type": "stream",
     "text": [
      "0\n",
      "54.27974510192871\n",
      "8.699891090393066\n",
      "10\n"
     ]
    }
   ],
   "source": [
    "#if os.path.exists('%s/loss2.pth' %root):\n",
    "#    loss = T.load('%s/loss2.pth' %root)\n",
    "#else:\n",
    "loss = np.zeros(1201)\n",
    "for i in range(0, 1201, 10):\n",
    "    if loss[i] != 0 and loss[i] == loss[i]:\n",
    "        continue\n",
    "    else:\n",
    "        print(i)\n",
    "    t = time.time()\n",
    "    encoder = model\n",
    "    encoder.load_state_dict(scp_Tload('%s/%04d.pth' %(root, i)))\n",
    "    encoder = encoder.to(device, memory_format = T.channels_last)\n",
    "    loss[i] = CL_loss_eval(encoder, loader, device, use_amp)\n",
    "    print(time.time() - t)\n",
    "    scp_Tsave(loss, '%s/loss.pth' %root)\n",
    "    print(loss[i])"
   ]
  },
  {
   "cell_type": "markdown",
   "id": "3f8fcd13-b1c9-4e7a-932b-09c47373f848",
   "metadata": {},
   "source": [
    "encoder = model\n",
    "encoder.load_state_dict(T.load('%s/%04d.pth' %('/public/home/ly_1112103017/zyz/imageCL/ckpt/BadCifarViT/init', 1256)))\n",
    "encoder = encoder.to(device, memory_format = T.channels_last)\n",
    "CL_loss_eval(encoder, loader, device, use_amp)"
   ]
  },
  {
   "cell_type": "code",
   "execution_count": null,
   "id": "bbc651f9-dc5b-4783-a7eb-fcb94875c97a",
   "metadata": {},
   "outputs": [],
   "source": []
  }
 ],
 "metadata": {
  "kernelspec": {
   "display_name": "Python 3 (ipykernel)",
   "language": "python",
   "name": "python3"
  },
  "language_info": {
   "codemirror_mode": {
    "name": "ipython",
    "version": 3
   },
   "file_extension": ".py",
   "mimetype": "text/x-python",
   "name": "python",
   "nbconvert_exporter": "python",
   "pygments_lexer": "ipython3",
   "version": "3.10.9"
  }
 },
 "nbformat": 4,
 "nbformat_minor": 5
}

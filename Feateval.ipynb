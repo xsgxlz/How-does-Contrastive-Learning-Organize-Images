{
 "cells": [
  {
   "cell_type": "code",
   "execution_count": 1,
   "id": "0fcf9359-6775-43c6-8674-56ce0cab2403",
   "metadata": {},
   "outputs": [
    {
     "name": "stderr",
     "output_type": "stream",
     "text": [
      "/public/ly/anaconda3/envs/zyz/lib/python3.10/site-packages/nvidia/dali/backend.py:46: Warning: DALI support for Python 3.10 is experimental and some functionalities may not work.\n",
      "  deprecation_warning(\"DALI support for Python 3.10 is experimental and some functionalities \"\n"
     ]
    }
   ],
   "source": [
    "from random import randint, random\n",
    "import collections\n",
    "import os\n",
    "\n",
    "import numpy as np\n",
    "import math\n",
    "import time\n",
    "from collections import deque\n",
    "import torch as T\n",
    "import torch.nn.functional as F\n",
    "import torch.nn as nn\n",
    "import torchvision\n",
    "import torchvision.transforms as transforms\n",
    "from tqdm import tqdm\n",
    "import sklearn.neighbors\n",
    "import sklearn.metrics\n",
    "import sklearn.mixture\n",
    "import networkx.algorithms.community as nx_comm\n",
    "from scipy import stats\n",
    "import networkx as nx\n",
    "import matplotlib.pyplot as plt\n",
    "import PIL\n",
    "from nvidia.dali.plugin.pytorch import DALIGenericIterator\n",
    "\n",
    "from imageComponent import *\n",
    "from remote_read_write import scp_read_wrapper, scp_write_wrapper\n",
    "scp_Tload = scp_read_wrapper(T.load, 'ly_1112103017@172.16.35.121', 30907, '/public/ly/zyz/cluster_id_rsa', '/public/ly/zyz/imageCL/tmp')\n",
    "scp_Tsave = scp_write_wrapper(T.save, 'ly_1112103017@172.16.35.121', 30907, '/public/ly/zyz/cluster_id_rsa', '/public/ly/zyz/imageCL/tmp')\n",
    "\n",
    "dali_device = 1\n",
    "device = 'cuda:3'\n",
    "T.backends.cudnn.benchmark = True\n",
    "T.backends.cudnn.deterministic = True\n",
    "use_amp = False"
   ]
  },
  {
   "cell_type": "code",
   "execution_count": 2,
   "id": "61d87749-c1e5-49e2-8ad7-d90d8c3150c9",
   "metadata": {},
   "outputs": [],
   "source": [
    "model = ViTCifar()\n",
    "if_normalize = True\n",
    "root = '/public/home/ly_1112103017/zyz/imageCL/ckpt/CLBadCifarViT2'\n",
    "files = (0, 1201, 10)"
   ]
  },
  {
   "cell_type": "code",
   "execution_count": 3,
   "id": "414eaf44-8941-424e-a646-75171038206c",
   "metadata": {},
   "outputs": [],
   "source": [
    "trainfolder = '/public/ly/zyz/imageCL/dataset/cifar10-image3/train'\n",
    "rawtrainfolder = '/public/ly/zyz/imageCL/dataset/cifar10-image3/train'\n",
    "valfolder = '/public/ly/zyz/imageCL/dataset/cifar10-image3/test'\n",
    "size = (32, 32)\n",
    "batch_size = 3125"
   ]
  },
  {
   "cell_type": "code",
   "execution_count": 4,
   "id": "ffb19ad3-e359-4bb6-ab37-2003aaaeeeea",
   "metadata": {},
   "outputs": [],
   "source": [
    "rawtrainpipe = DALIValdImageFolders(root=rawtrainfolder, size=size, batch_size=batch_size, num_threads=6, device_id=dali_device)\n",
    "rawtrainloader = dali.plugin.pytorch.DALIGenericIterator([rawtrainpipe], reader_name ='reader', output_map=['image', 'label'],\n",
    "                                                    last_batch_policy=dali.plugin.base_iterator.LastBatchPolicy.PARTIAL)\n",
    "valpipe = DALIValdImageFolders(root=valfolder, size=size, batch_size=batch_size, num_threads=4, device_id=dali_device)\n",
    "valloader = dali.plugin.pytorch.DALIGenericIterator([valpipe], reader_name='reader', output_map=['image', 'label'],\n",
    "                                                    last_batch_policy=dali.plugin.base_iterator.LastBatchPolicy.PARTIAL)"
   ]
  },
  {
   "cell_type": "code",
   "execution_count": null,
   "id": "e27dce61-6f21-47a7-bb82-14fef906483b",
   "metadata": {},
   "outputs": [
    {
     "name": "stdout",
     "output_type": "stream",
     "text": [
      "0\n",
      "194.96734380722046\n",
      "[5.92507935e+02 1.37086902e-02 7.44909868e-02 1.25474349e-01\n",
      " 4.48460000e-01 4.30400000e-01 3.20871503e-01 3.12600000e-01\n",
      " 3.54394904e-01 3.51600000e-01]\n",
      "\n"
     ]
    }
   ],
   "source": [
    "#CH, 1 0.2 0.1 RLD, linear tacc vacc, GCN tacc vacc\n",
    "recorder = np.zeros((files[1], 10))\n",
    "for i in range(*files):\n",
    "    t = time.time()\n",
    "    #while not os.path.exists('%s/%04d.pth' %(root, i)):\n",
    "    #    time.sleep(100)\n",
    "    model.load_state_dict(scp_Tload('%s/%04d.pth' %(root, i), map_location=device))\n",
    "    model = model.to(device, memory_format = T.channels_last)\n",
    "    with T.no_grad():\n",
    "        tX, ty = extract_feature(rawtrainloader, model, device, normalize=if_normalize, use_amp=use_amp)\n",
    "        vX, vy = extract_feature(valloader, model, device, normalize=if_normalize, use_amp=use_amp)\n",
    "\n",
    "        recorder[i, 0] = calinski_harabasz_score(tX, ty).item()\n",
    "        recorder[i, 1:4] = [k.detach().cpu().numpy() for k in relative_local_density_score(tX, ty, [1, 0.2, 0.1])]\n",
    "    lh = NNHead(nn.Linear, tolerate=30, label_smoothing=0, lr=1e-1, use_amp=use_amp, verbose=0).fit(tX, ty, vX, vy)\n",
    "    recorder[i, 4:6] = lh.best_acc, lh.best_val_acc\n",
    "    gh = GraphHead(0.2, mask_p=[0.05, 0.5], tolerate=50, label_smoothing=0, lr=1e-1, use_amp=use_amp, verbose=0).fit(tX, ty, vX, vy)\n",
    "    recorder[i, 6:8] = gh.best_acc, gh.best_val_acc\n",
    "    del gh\n",
    "    gh = GraphHead(0.1, mask_p=[0.05, 0.5], tolerate=50, label_smoothing=0, lr=1e-1, use_amp=use_amp, verbose=0).fit(tX, ty, vX, vy)\n",
    "    recorder[i, 8:10] = gh.best_acc, gh.best_val_acc\n",
    "    #del gh\n",
    "    del tX, ty, vX, vy, lh, gh\n",
    "    T.cuda.empty_cache()\n",
    "    print(i)\n",
    "    print(time.time() - t)\n",
    "    scp_Tsave(recorder, '%s/full_recorder.pth' %root)\n",
    "    print(recorder[i], end='\\n\\n')"
   ]
  },
  {
   "cell_type": "markdown",
   "id": "1edbc958-f583-47cc-ae87-88a02d2355b7",
   "metadata": {},
   "source": [
    "probe = nn.Linear(512, 10)\n",
    "probe = probe.to(device, memory_format=T.channels_last).train()\n",
    "encoder = model\n",
    "encoder.load_state_dict(T.load('%s/%04d.pth' %(root, 1256)))\n",
    "#jitencoder = T.jit.script(encoder).to(device, memory_format = T.channels_last)\n",
    "jitencoder = encoder.to(device, memory_format = T.channels_last)\n",
    "r, probe = feature_eval(jitencoder, 512, trainloader=trainloader, rawtrainloader=rawtrainloader, valloader=valloader,\n",
    "                        num_class=10, batch_size=batch_size, tolerate=3, device=device, init_probe=probe,\n",
    "                        normalize=True, use_amp=True, verbose=True)"
   ]
  },
  {
   "cell_type": "code",
   "execution_count": null,
   "id": "c1ee8cba-61b3-4962-8052-8cbba1df2d32",
   "metadata": {},
   "outputs": [],
   "source": []
  },
  {
   "cell_type": "code",
   "execution_count": null,
   "id": "2a41ec37-0f73-4129-acb1-33b82779f03e",
   "metadata": {},
   "outputs": [],
   "source": []
  }
 ],
 "metadata": {
  "kernelspec": {
   "display_name": "Python 3 (ipykernel)",
   "language": "python",
   "name": "python3"
  },
  "language_info": {
   "codemirror_mode": {
    "name": "ipython",
    "version": 3
   },
   "file_extension": ".py",
   "mimetype": "text/x-python",
   "name": "python",
   "nbconvert_exporter": "python",
   "pygments_lexer": "ipython3",
   "version": "3.10.9"
  }
 },
 "nbformat": 4,
 "nbformat_minor": 5
}
